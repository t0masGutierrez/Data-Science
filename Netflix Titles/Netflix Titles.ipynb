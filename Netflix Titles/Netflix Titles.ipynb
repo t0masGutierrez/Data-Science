{
 "cells": [
  {
   "cell_type": "markdown",
   "metadata": {
    "tags": []
   },
   "source": [
    "# Intro\n",
    "My data analysis will explore the relationship between Internet Movie DataBase scores and The Movie DataBase scores"
   ]
  },
  {
   "cell_type": "markdown",
   "metadata": {
    "tags": []
   },
   "source": [
    "# Import"
   ]
  },
  {
   "cell_type": "code",
   "execution_count": 32,
   "metadata": {},
   "outputs": [],
   "source": [
    "import numpy as np\n",
    "import pandas as pd\n",
    "from matplotlib import pyplot as plt\n",
    "import warnings; warnings.filterwarnings(\"ignore\")"
   ]
  },
  {
   "cell_type": "code",
   "execution_count": 33,
   "metadata": {},
   "outputs": [
    {
     "data": {
      "text/html": [
       "<div>\n",
       "<style scoped>\n",
       "    .dataframe tbody tr th:only-of-type {\n",
       "        vertical-align: middle;\n",
       "    }\n",
       "\n",
       "    .dataframe tbody tr th {\n",
       "        vertical-align: top;\n",
       "    }\n",
       "\n",
       "    .dataframe thead th {\n",
       "        text-align: right;\n",
       "    }\n",
       "</style>\n",
       "<table border=\"1\" class=\"dataframe\">\n",
       "  <thead>\n",
       "    <tr style=\"text-align: right;\">\n",
       "      <th></th>\n",
       "      <th>title</th>\n",
       "      <th>imdb_score</th>\n",
       "      <th>tmdb_score</th>\n",
       "    </tr>\n",
       "  </thead>\n",
       "  <tbody>\n",
       "    <tr>\n",
       "      <th>0</th>\n",
       "      <td>Five Came Back: The Reference Films</td>\n",
       "      <td>NaN</td>\n",
       "      <td>NaN</td>\n",
       "    </tr>\n",
       "    <tr>\n",
       "      <th>1</th>\n",
       "      <td>Taxi Driver</td>\n",
       "      <td>8.2</td>\n",
       "      <td>8.179</td>\n",
       "    </tr>\n",
       "    <tr>\n",
       "      <th>2</th>\n",
       "      <td>Deliverance</td>\n",
       "      <td>7.7</td>\n",
       "      <td>7.300</td>\n",
       "    </tr>\n",
       "    <tr>\n",
       "      <th>3</th>\n",
       "      <td>Monty Python and the Holy Grail</td>\n",
       "      <td>8.2</td>\n",
       "      <td>7.811</td>\n",
       "    </tr>\n",
       "    <tr>\n",
       "      <th>4</th>\n",
       "      <td>The Dirty Dozen</td>\n",
       "      <td>7.7</td>\n",
       "      <td>7.600</td>\n",
       "    </tr>\n",
       "  </tbody>\n",
       "</table>\n",
       "</div>"
      ],
      "text/plain": [
       "                                 title  imdb_score  tmdb_score\n",
       "0  Five Came Back: The Reference Films         NaN         NaN\n",
       "1                          Taxi Driver         8.2       8.179\n",
       "2                          Deliverance         7.7       7.300\n",
       "3      Monty Python and the Holy Grail         8.2       7.811\n",
       "4                      The Dirty Dozen         7.7       7.600"
      ]
     },
     "execution_count": 33,
     "metadata": {},
     "output_type": "execute_result"
    }
   ],
   "source": [
    "df = pd.read_csv(\"/Users/tgut03/Jupyter/Data/Netflix Titles.csv\")\n",
    "df.drop(df.columns.difference([\"title\", \"imdb_score\", \"tmdb_score\"]), axis = 1, inplace = True)\n",
    "df.head()"
   ]
  },
  {
   "cell_type": "code",
   "execution_count": 34,
   "metadata": {},
   "outputs": [
    {
     "name": "stdout",
     "output_type": "stream",
     "text": [
      "               Type  Nulls  Uniques\n",
      "title        object      1     5798\n",
      "imdb_score  float64    482       80\n",
      "tmdb_score  float64    311      394\n",
      "(5850, 3)\n"
     ]
    }
   ],
   "source": [
    "dfInfo = pd.DataFrame()\n",
    "dfInfo[\"Type\"] = df.dtypes\n",
    "dfInfo[\"Nulls\"] = df.isnull().sum()\n",
    "dfInfo[\"Uniques\"] = df.nunique()\n",
    "print(dfInfo)\n",
    "print(df.shape)"
   ]
  },
  {
   "cell_type": "markdown",
   "metadata": {
    "tags": []
   },
   "source": [
    "# Transform"
   ]
  },
  {
   "cell_type": "code",
   "execution_count": 35,
   "metadata": {},
   "outputs": [],
   "source": [
    "# Replace Nulls\n",
    "med = df.quantile(0.50)\n",
    "df.fillna(med, inplace = True)"
   ]
  },
  {
   "cell_type": "code",
   "execution_count": 36,
   "metadata": {},
   "outputs": [],
   "source": [
    "# Remove Duplicates\n",
    "df[\"title\"].drop_duplicates(inplace = True)"
   ]
  },
  {
   "cell_type": "markdown",
   "metadata": {
    "tags": []
   },
   "source": [
    "# Explore"
   ]
  },
  {
   "cell_type": "code",
   "execution_count": 37,
   "metadata": {},
   "outputs": [
    {
     "data": {
      "text/html": [
       "<div>\n",
       "<style scoped>\n",
       "    .dataframe tbody tr th:only-of-type {\n",
       "        vertical-align: middle;\n",
       "    }\n",
       "\n",
       "    .dataframe tbody tr th {\n",
       "        vertical-align: top;\n",
       "    }\n",
       "\n",
       "    .dataframe thead th {\n",
       "        text-align: right;\n",
       "    }\n",
       "</style>\n",
       "<table border=\"1\" class=\"dataframe\">\n",
       "  <thead>\n",
       "    <tr style=\"text-align: right;\">\n",
       "      <th></th>\n",
       "      <th>IMDB</th>\n",
       "      <th>TMDB</th>\n",
       "    </tr>\n",
       "  </thead>\n",
       "  <tbody>\n",
       "    <tr>\n",
       "      <th>7.0</th>\n",
       "      <td>2169.0</td>\n",
       "      <td>2171</td>\n",
       "    </tr>\n",
       "    <tr>\n",
       "      <th>6.0</th>\n",
       "      <td>1630.0</td>\n",
       "      <td>1538</td>\n",
       "    </tr>\n",
       "    <tr>\n",
       "      <th>8.0</th>\n",
       "      <td>1028.0</td>\n",
       "      <td>1292</td>\n",
       "    </tr>\n",
       "    <tr>\n",
       "      <th>5.0</th>\n",
       "      <td>603.0</td>\n",
       "      <td>399</td>\n",
       "    </tr>\n",
       "    <tr>\n",
       "      <th>4.0</th>\n",
       "      <td>242.0</td>\n",
       "      <td>116</td>\n",
       "    </tr>\n",
       "    <tr>\n",
       "      <th>9.0</th>\n",
       "      <td>95.0</td>\n",
       "      <td>195</td>\n",
       "    </tr>\n",
       "    <tr>\n",
       "      <th>3.0</th>\n",
       "      <td>58.0</td>\n",
       "      <td>18</td>\n",
       "    </tr>\n",
       "    <tr>\n",
       "      <th>2.0</th>\n",
       "      <td>22.0</td>\n",
       "      <td>19</td>\n",
       "    </tr>\n",
       "    <tr>\n",
       "      <th>10.0</th>\n",
       "      <td>3.0</td>\n",
       "      <td>91</td>\n",
       "    </tr>\n",
       "    <tr>\n",
       "      <th>1.0</th>\n",
       "      <td>NaN</td>\n",
       "      <td>10</td>\n",
       "    </tr>\n",
       "    <tr>\n",
       "      <th>0.0</th>\n",
       "      <td>NaN</td>\n",
       "      <td>1</td>\n",
       "    </tr>\n",
       "  </tbody>\n",
       "</table>\n",
       "</div>"
      ],
      "text/plain": [
       "        IMDB  TMDB\n",
       "7.0   2169.0  2171\n",
       "6.0   1630.0  1538\n",
       "8.0   1028.0  1292\n",
       "5.0    603.0   399\n",
       "4.0    242.0   116\n",
       "9.0     95.0   195\n",
       "3.0     58.0    18\n",
       "2.0     22.0    19\n",
       "10.0     3.0    91\n",
       "1.0      NaN    10\n",
       "0.0      NaN     1"
      ]
     },
     "execution_count": 37,
     "metadata": {},
     "output_type": "execute_result"
    }
   ],
   "source": [
    "# Score Frequency\n",
    "IMDB = df[\"imdb_score\"].round().value_counts().rename(\"IMDB\")\n",
    "TMDB = df[\"tmdb_score\"].round().value_counts().rename(\"TMDB\")\n",
    "scoreFrequency = pd.concat([IMDB, TMDB], axis = 1)\n",
    "scoreFrequency"
   ]
  },
  {
   "cell_type": "markdown",
   "metadata": {},
   "source": [
    "Key Insights\n",
    "- score 7 has the highest frequency"
   ]
  },
  {
   "cell_type": "code",
   "execution_count": 38,
   "metadata": {},
   "outputs": [
    {
     "name": "stdout",
     "output_type": "stream",
     "text": [
      "imdb outliers = 138\n",
      "tmdb outliers = 215\n"
     ]
    }
   ],
   "source": [
    "# Quartiles\n",
    "q1 = df.quantile(0.25, numeric_only = True)\n",
    "q3 = df.quantile(0.75, numeric_only = True)\n",
    "IQR = q3 - q1\n",
    "\n",
    "# Bounds\n",
    "lower = q1 - 1.5 * IQR\n",
    "upper = q3 + 1.5 * IQR\n",
    "\n",
    "# Outliers\n",
    "outliers = (df < lower) | (df > upper)\n",
    "imdbOuts = outliers[\"imdb_score\"]\n",
    "tmdbOuts = outliers[\"tmdb_score\"]\n",
    "\n",
    "print(f\"imdb outliers = {imdbOuts.sum()}\")\n",
    "print(f\"tmdb outliers = {tmdbOuts.sum()}\")"
   ]
  },
  {
   "cell_type": "markdown",
   "metadata": {},
   "source": [
    "Key Insights\n",
    "- 353 scores significantly deviate from the majority of scores "
   ]
  },
  {
   "cell_type": "code",
   "execution_count": 39,
   "metadata": {},
   "outputs": [
    {
     "data": {
      "image/png": "[encoded data removed]",
      "text/plain": [
       "<Figure size 640x480 with 1 Axes>"
      ]
     },
     "metadata": {},
     "output_type": "display_data"
    },
    {
     "data": {
      "text/html": [
       "<div>\n",
       "<style scoped>\n",
       "    .dataframe tbody tr th:only-of-type {\n",
       "        vertical-align: middle;\n",
       "    }\n",
       "\n",
       "    .dataframe tbody tr th {\n",
       "        vertical-align: top;\n",
       "    }\n",
       "\n",
       "    .dataframe thead th {\n",
       "        text-align: right;\n",
       "    }\n",
       "</style>\n",
       "<table border=\"1\" class=\"dataframe\">\n",
       "  <thead>\n",
       "    <tr style=\"text-align: right;\">\n",
       "      <th></th>\n",
       "      <th>IMDB</th>\n",
       "      <th>TMDB</th>\n",
       "    </tr>\n",
       "  </thead>\n",
       "  <tbody>\n",
       "    <tr>\n",
       "      <th>count</th>\n",
       "      <td>5850.0</td>\n",
       "      <td>5850.0</td>\n",
       "    </tr>\n",
       "    <tr>\n",
       "      <th>mean</th>\n",
       "      <td>6.5</td>\n",
       "      <td>6.8</td>\n",
       "    </tr>\n",
       "    <tr>\n",
       "      <th>std</th>\n",
       "      <td>1.1</td>\n",
       "      <td>1.1</td>\n",
       "    </tr>\n",
       "    <tr>\n",
       "      <th>min</th>\n",
       "      <td>1.5</td>\n",
       "      <td>0.5</td>\n",
       "    </tr>\n",
       "    <tr>\n",
       "      <th>25%</th>\n",
       "      <td>5.9</td>\n",
       "      <td>6.2</td>\n",
       "    </tr>\n",
       "    <tr>\n",
       "      <th>50%</th>\n",
       "      <td>6.6</td>\n",
       "      <td>6.9</td>\n",
       "    </tr>\n",
       "    <tr>\n",
       "      <th>75%</th>\n",
       "      <td>7.3</td>\n",
       "      <td>7.5</td>\n",
       "    </tr>\n",
       "    <tr>\n",
       "      <th>max</th>\n",
       "      <td>9.6</td>\n",
       "      <td>10.0</td>\n",
       "    </tr>\n",
       "  </tbody>\n",
       "</table>\n",
       "</div>"
      ],
      "text/plain": [
       "         IMDB    TMDB\n",
       "count  5850.0  5850.0\n",
       "mean      6.5     6.8\n",
       "std       1.1     1.1\n",
       "min       1.5     0.5\n",
       "25%       5.9     6.2\n",
       "50%       6.6     6.9\n",
       "75%       7.3     7.5\n",
       "max       9.6    10.0"
      ]
     },
     "execution_count": 39,
     "metadata": {},
     "output_type": "execute_result"
    }
   ],
   "source": [
    "# Score Summary\n",
    "IMDB = df[\"imdb_score\"].describe().round(1).rename(\"IMDB\")\n",
    "TMDB = df[\"tmdb_score\"].describe().round(1).rename(\"TMDB\")\n",
    "scoreSummary = pd.concat([IMDB, TMDB], axis = 1)\n",
    "\n",
    "# Boxplot\n",
    "df.boxplot(column = [\"imdb_score\", \"tmdb_score\"], showfliers = True)\n",
    "plt.ylabel(\"Score\")\n",
    "plt.title(\"Score Summary\")\n",
    "plt.show()\n",
    "scoreSummary"
   ]
  },
  {
   "cell_type": "markdown",
   "metadata": {},
   "source": [
    "Key Insights\n",
    "- on average the scores vary 1.1 units from the mean\n",
    "- box plots visualize the five number summary and the outliers"
   ]
  },
  {
   "cell_type": "code",
   "execution_count": 40,
   "metadata": {},
   "outputs": [
    {
     "name": "stdout",
     "output_type": "stream",
     "text": [
      "imdb variance = 1.24\n",
      "tmdb variance = 1.3\n"
     ]
    }
   ],
   "source": [
    "# Variance\n",
    "imdbVar = df[\"imdb_score\"].var()\n",
    "tmdbVar = df[\"tmdb_score\"].var()\n",
    "print(f\"imdb variance = {round(imdbVar, 2)}\")\n",
    "print(f\"tmdb variance = {round(tmdbVar, 2)}\")"
   ]
  },
  {
   "cell_type": "markdown",
   "metadata": {},
   "source": [
    "Key Insights\n",
    "- low variability of scores imply clusters about the mean"
   ]
  },
  {
   "cell_type": "code",
   "execution_count": 41,
   "metadata": {},
   "outputs": [
    {
     "name": "stdout",
     "output_type": "stream",
     "text": [
      "imdb skewness = -0.68\n",
      "tmdb skewness = -0.52\n"
     ]
    }
   ],
   "source": [
    "# Skewness\n",
    "imdbSkew = df[\"imdb_score\"].skew()\n",
    "tmdbSkew = df[\"tmdb_score\"].skew()\n",
    "print(f\"imdb skewness = {round(imdbSkew, 2)}\")\n",
    "print(f\"tmdb skewness = {round(tmdbSkew, 2)}\")"
   ]
  },
  {
   "cell_type": "markdown",
   "metadata": {},
   "source": [
    "Key Insights\n",
    "- the tail of the distribution extends to the left"
   ]
  },
  {
   "cell_type": "code",
   "execution_count": 42,
   "metadata": {},
   "outputs": [
    {
     "name": "stdout",
     "output_type": "stream",
     "text": [
      "imdb kurtosis = 1.0\n",
      "tmdb kurtosis = 2.43\n"
     ]
    }
   ],
   "source": [
    "# Kurtosis\n",
    "imdbKurt = df[\"imdb_score\"].kurt()\n",
    "tmdbKurt = df[\"tmdb_score\"].kurt()\n",
    "print(f\"imdb kurtosis = {round(imdbKurt, 2)}\")\n",
    "print(f\"tmdb kurtosis = {round(tmdbKurt, 2)}\")"
   ]
  },
  {
   "cell_type": "markdown",
   "metadata": {},
   "source": [
    "Key Insights\n",
    "- positive kurtosis imply high peakedness"
   ]
  },
  {
   "cell_type": "code",
   "execution_count": 43,
   "metadata": {},
   "outputs": [
    {
     "data": {
      "image/png": "[encoded data removed]",
      "text/plain": [
       "<Figure size 1200x500 with 2 Axes>"
      ]
     },
     "metadata": {},
     "output_type": "display_data"
    }
   ],
   "source": [
    "# 1 Figure 2 Subplots\n",
    "fig, ax = plt.subplots(1, 2, figsize = (12, 5))\n",
    "\n",
    "# Histogram\n",
    "df[\"imdb_score\"].hist(alpha = 0.5, bins = 10, label = \"IMDB\", ax = ax[0])\n",
    "df[\"tmdb_score\"].hist(alpha = 0.5, bins = 10, label = \"TMDB\", ax = ax[0])\n",
    "ax[0].set_xlabel(\"Score\")\n",
    "ax[0].set_ylabel(\"Frequency\")\n",
    "ax[0].legend()\n",
    "\n",
    "# Kernel Density Estimate\n",
    "df[\"imdb_score\"].plot.kde(label = \"IMDB\", ax = ax[1])\n",
    "df[\"tmdb_score\"].plot.kde(label = \"TMDB\", ax = ax[1])\n",
    "ax[1].set_xlabel(\"Score\")\n",
    "ax[1].set_ylabel(\"Density\")\n",
    "ax[1].legend()\n",
    "\n",
    "plt.subplots_adjust(wspace = 0.5)\n",
    "fig.suptitle(\"Score Distribution\")\n",
    "plt.show()"
   ]
  },
  {
   "cell_type": "markdown",
   "metadata": {},
   "source": [
    "Key Insights\n",
    "- histograms visualize the distribution of frequency\n",
    "- kernel density estimates visualize the distribution of probability density"
   ]
  },
  {
   "cell_type": "code",
   "execution_count": 44,
   "metadata": {},
   "outputs": [
    {
     "data": {
      "image/png": "[encoded data removed]",
      "text/plain": [
       "<Figure size 640x480 with 1 Axes>"
      ]
     },
     "metadata": {},
     "output_type": "display_data"
    }
   ],
   "source": [
    "# Scatterplot\n",
    "df.plot.scatter(x = \"imdb_score\", y = \"tmdb_score\")\n",
    "\n",
    "# Regression\n",
    "coefficient = np.polyfit(df[\"imdb_score\"], df[\"tmdb_score\"], 1).round(2)\n",
    "m = coefficient[0] # Slope\n",
    "b = coefficient[1] # Intercept\n",
    "linRegEq = (f\"y = {m}x + {b}\")\n",
    "\n",
    "# Plot Regression\n",
    "plt.plot(df[\"imdb_score\"], m * df[\"imdb_score\"] + b, color = \"orange\", label = linRegEq)\n",
    "plt.title(\"Score Relationship\")\n",
    "\n",
    "plt.xlabel(\"IMDB\")\n",
    "plt.ylabel(\"TMDB\")\n",
    "plt.legend()\n",
    "plt.show()"
   ]
  },
  {
   "cell_type": "markdown",
   "metadata": {},
   "source": [
    "Key Insights\n",
    "- scatterplots visualize the relationship between 2 variables\n",
    "- linear regression lines best fit the relationship between 2 variables"
   ]
  },
  {
   "cell_type": "code",
   "execution_count": 45,
   "metadata": {},
   "outputs": [
    {
     "name": "stdout",
     "output_type": "stream",
     "text": [
      "correlation = 0.52\n"
     ]
    }
   ],
   "source": [
    "# Correlation\n",
    "corr = df[\"imdb_score\"].corr(df[\"tmdb_score\"])\n",
    "print(f\"correlation = {round(corr, 2)}\")"
   ]
  },
  {
   "cell_type": "markdown",
   "metadata": {},
   "source": [
    "Key Insights\n",
    "- scores tend to change together toward similar direction"
   ]
  },
  {
   "cell_type": "markdown",
   "metadata": {
    "tags": []
   },
   "source": [
    "# Conclusion\n",
    "To conclude, the relationship between IMDB scores and TMDB scores can provide value to netflix enthusiasts who seek reliable ratings or present a business opportunity to merge the 2 associated platforms into 1 integrated user experience."
   ]
  }
 ],
 "metadata": {
  "kernelspec": {
   "display_name": "Python 3 (ipykernel)",
   "language": "python",
   "name": "python3"
  },
  "language_info": {
   "codemirror_mode": {
    "name": "ipython",
    "version": 3
   },
   "file_extension": ".py",
   "mimetype": "text/x-python",
   "name": "python",
   "nbconvert_exporter": "python",
   "pygments_lexer": "ipython3",
   "version": "3.10.11"
  }
 },
 "nbformat": 4,
 "nbformat_minor": 4
}
