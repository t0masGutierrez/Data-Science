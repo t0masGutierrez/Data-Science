{
 "cells": [
  {
   "cell_type": "markdown",
   "metadata": {
    "jp-MarkdownHeadingCollapsed": true,
    "tags": []
   },
   "source": [
    "# Intro\n",
    "My data analysis will explore the relationship between Internet Movie DataBase scores and The Movie DataBase scores"
   ]
  },
  {
   "cell_type": "markdown",
   "metadata": {
    "jp-MarkdownHeadingCollapsed": true,
    "tags": []
   },
   "source": [
    "# Import"
   ]
  },
  {
   "cell_type": "code",
   "execution_count": 1,
   "metadata": {},
   "outputs": [],
   "source": [
    "import numpy as np\n",
    "import pandas as pd\n",
    "from matplotlib import pyplot as plt\n",
    "import warnings; warnings.filterwarnings(\"ignore\")"
   ]
  },
  {
   "cell_type": "code",
   "execution_count": 2,
   "metadata": {},
   "outputs": [
    {
     "data": {
      "text/html": [
       "<div>\n",
       "<style scoped>\n",
       "    .dataframe tbody tr th:only-of-type {\n",
       "        vertical-align: middle;\n",
       "    }\n",
       "\n",
       "    .dataframe tbody tr th {\n",
       "        vertical-align: top;\n",
       "    }\n",
       "\n",
       "    .dataframe thead th {\n",
       "        text-align: right;\n",
       "    }\n",
       "</style>\n",
       "<table border=\"1\" class=\"dataframe\">\n",
       "  <thead>\n",
       "    <tr style=\"text-align: right;\">\n",
       "      <th></th>\n",
       "      <th>title</th>\n",
       "      <th>imdb_score</th>\n",
       "      <th>tmdb_score</th>\n",
       "    </tr>\n",
       "  </thead>\n",
       "  <tbody>\n",
       "    <tr>\n",
       "      <th>0</th>\n",
       "      <td>Five Came Back: The Reference Films</td>\n",
       "      <td>NaN</td>\n",
       "      <td>NaN</td>\n",
       "    </tr>\n",
       "    <tr>\n",
       "      <th>1</th>\n",
       "      <td>Taxi Driver</td>\n",
       "      <td>8.2</td>\n",
       "      <td>8.179</td>\n",
       "    </tr>\n",
       "    <tr>\n",
       "      <th>2</th>\n",
       "      <td>Deliverance</td>\n",
       "      <td>7.7</td>\n",
       "      <td>7.300</td>\n",
       "    </tr>\n",
       "    <tr>\n",
       "      <th>3</th>\n",
       "      <td>Monty Python and the Holy Grail</td>\n",
       "      <td>8.2</td>\n",
       "      <td>7.811</td>\n",
       "    </tr>\n",
       "    <tr>\n",
       "      <th>4</th>\n",
       "      <td>The Dirty Dozen</td>\n",
       "      <td>7.7</td>\n",
       "      <td>7.600</td>\n",
       "    </tr>\n",
       "  </tbody>\n",
       "</table>\n",
       "</div>"
      ],
      "text/plain": [
       "                                 title  imdb_score  tmdb_score\n",
       "0  Five Came Back: The Reference Films         NaN         NaN\n",
       "1                          Taxi Driver         8.2       8.179\n",
       "2                          Deliverance         7.7       7.300\n",
       "3      Monty Python and the Holy Grail         8.2       7.811\n",
       "4                      The Dirty Dozen         7.7       7.600"
      ]
     },
     "execution_count": 2,
     "metadata": {},
     "output_type": "execute_result"
    }
   ],
   "source": [
    "df = pd.read_csv(\"/Users/tgut03/Jupyter/Data/Netflix Titles.csv\")\n",
    "df.drop(df.columns.difference([\"title\", \"imdb_score\", \"tmdb_score\"]), axis = 1, inplace = True)\n",
    "df.head()"
   ]
  },
  {
   "cell_type": "code",
   "execution_count": 3,
   "metadata": {},
   "outputs": [
    {
     "name": "stdout",
     "output_type": "stream",
     "text": [
      "               Type  Nulls  Uniques\n",
      "title        object      1     5798\n",
      "imdb_score  float64    482       80\n",
      "tmdb_score  float64    311      394\n",
      "(5850, 3)\n"
     ]
    }
   ],
   "source": [
    "dfInfo = pd.DataFrame()\n",
    "dfInfo[\"Type\"] = df.dtypes\n",
    "dfInfo[\"Nulls\"] = df.isnull().sum()\n",
    "dfInfo[\"Uniques\"] = df.nunique()\n",
    "print(dfInfo)\n",
    "print(df.shape)"
   ]
  },
  {
   "cell_type": "markdown",
   "metadata": {
    "jp-MarkdownHeadingCollapsed": true,
    "tags": []
   },
   "source": [
    "Key Insights\n",
    "- 1 string 2 decimals\n",
    "- 792 null scores\n",
    "- 52 duplicate titles"
   ]
  },
  {
   "cell_type": "markdown",
   "metadata": {
    "jp-MarkdownHeadingCollapsed": true,
    "tags": []
   },
   "source": [
    "# Transform"
   ]
  },
  {
   "cell_type": "code",
   "execution_count": 4,
   "metadata": {},
   "outputs": [],
   "source": [
    "# Replace Nulls\n",
    "med = df.quantile(0.50)\n",
    "df.fillna(med, inplace = True)"
   ]
  },
  {
   "cell_type": "code",
   "execution_count": 5,
   "metadata": {},
   "outputs": [],
   "source": [
    "# Remove Duplicates\n",
    "df[\"title\"].drop_duplicates(inplace = True)"
   ]
  },
  {
   "cell_type": "markdown",
   "metadata": {
    "jp-MarkdownHeadingCollapsed": true,
    "tags": []
   },
   "source": [
    "# Explore"
   ]
  },
  {
   "cell_type": "code",
   "execution_count": 6,
   "metadata": {},
   "outputs": [
    {
     "data": {
      "text/html": [
       "<div>\n",
       "<style scoped>\n",
       "    .dataframe tbody tr th:only-of-type {\n",
       "        vertical-align: middle;\n",
       "    }\n",
       "\n",
       "    .dataframe tbody tr th {\n",
       "        vertical-align: top;\n",
       "    }\n",
       "\n",
       "    .dataframe thead th {\n",
       "        text-align: right;\n",
       "    }\n",
       "</style>\n",
       "<table border=\"1\" class=\"dataframe\">\n",
       "  <thead>\n",
       "    <tr style=\"text-align: right;\">\n",
       "      <th></th>\n",
       "      <th>IMDB</th>\n",
       "      <th>TMDB</th>\n",
       "    </tr>\n",
       "  </thead>\n",
       "  <tbody>\n",
       "    <tr>\n",
       "      <th>7.0</th>\n",
       "      <td>2169.0</td>\n",
       "      <td>2171</td>\n",
       "    </tr>\n",
       "    <tr>\n",
       "      <th>6.0</th>\n",
       "      <td>1630.0</td>\n",
       "      <td>1538</td>\n",
       "    </tr>\n",
       "    <tr>\n",
       "      <th>8.0</th>\n",
       "      <td>1028.0</td>\n",
       "      <td>1292</td>\n",
       "    </tr>\n",
       "    <tr>\n",
       "      <th>5.0</th>\n",
       "      <td>603.0</td>\n",
       "      <td>399</td>\n",
       "    </tr>\n",
       "    <tr>\n",
       "      <th>4.0</th>\n",
       "      <td>242.0</td>\n",
       "      <td>116</td>\n",
       "    </tr>\n",
       "    <tr>\n",
       "      <th>9.0</th>\n",
       "      <td>95.0</td>\n",
       "      <td>195</td>\n",
       "    </tr>\n",
       "    <tr>\n",
       "      <th>3.0</th>\n",
       "      <td>58.0</td>\n",
       "      <td>18</td>\n",
       "    </tr>\n",
       "    <tr>\n",
       "      <th>2.0</th>\n",
       "      <td>22.0</td>\n",
       "      <td>19</td>\n",
       "    </tr>\n",
       "    <tr>\n",
       "      <th>10.0</th>\n",
       "      <td>3.0</td>\n",
       "      <td>91</td>\n",
       "    </tr>\n",
       "    <tr>\n",
       "      <th>1.0</th>\n",
       "      <td>NaN</td>\n",
       "      <td>10</td>\n",
       "    </tr>\n",
       "    <tr>\n",
       "      <th>0.0</th>\n",
       "      <td>NaN</td>\n",
       "      <td>1</td>\n",
       "    </tr>\n",
       "  </tbody>\n",
       "</table>\n",
       "</div>"
      ],
      "text/plain": [
       "        IMDB  TMDB\n",
       "7.0   2169.0  2171\n",
       "6.0   1630.0  1538\n",
       "8.0   1028.0  1292\n",
       "5.0    603.0   399\n",
       "4.0    242.0   116\n",
       "9.0     95.0   195\n",
       "3.0     58.0    18\n",
       "2.0     22.0    19\n",
       "10.0     3.0    91\n",
       "1.0      NaN    10\n",
       "0.0      NaN     1"
      ]
     },
     "execution_count": 6,
     "metadata": {},
     "output_type": "execute_result"
    }
   ],
   "source": [
    "# Score Frequency\n",
    "IMDB = df[\"imdb_score\"].round().value_counts().rename(\"IMDB\")\n",
    "TMDB = df[\"tmdb_score\"].round().value_counts().rename(\"TMDB\")\n",
    "scoreFrequency = pd.concat([IMDB, TMDB], axis = 1)\n",
    "scoreFrequency"
   ]
  },
  {
   "cell_type": "markdown",
   "metadata": {},
   "source": [
    "Key Insights\n",
    "- the most frequent score is 7\n",
    "- the least frequent imdb score is 10 while the least frequent tmdb score is 0"
   ]
  },
  {
   "cell_type": "code",
   "execution_count": 7,
   "metadata": {},
   "outputs": [
    {
     "name": "stdout",
     "output_type": "stream",
     "text": [
      "imdb outliers = 138\n",
      "tmdb outliers = 215\n"
     ]
    }
   ],
   "source": [
    "# Outliers\n",
    "IQR = df.quantile(0.75, numeric_only = True) - df.quantile(0.25, numeric_only = True)\n",
    "lower = df.quantile(0.25, numeric_only = True) - 1.5 * IQR\n",
    "upper = df.quantile(0.75, numeric_only = True) + 1.5 * IQR\n",
    "outliers = (df < lower) | (df > upper)\n",
    "imdbOuts = outliers[\"imdb_score\"]\n",
    "tmdbOuts = outliers[\"tmdb_score\"]\n",
    "print(f\"imdb outliers = {imdbOuts.sum()}\")\n",
    "print(f\"tmdb outliers = {tmdbOuts.sum()}\")"
   ]
  },
  {
   "cell_type": "markdown",
   "metadata": {},
   "source": [
    "Key Insights\n",
    "- 353 scores significantly deviate from the majority of scores "
   ]
  },
  {
   "cell_type": "code",
   "execution_count": 8,
   "metadata": {},
   "outputs": [
    {
     "data": {
      "image/png": "[encoded data removed]",
      "text/plain": [
       "<Figure size 640x480 with 1 Axes>"
      ]
     },
     "metadata": {},
     "output_type": "display_data"
    }
   ],
   "source": [
    "# Score Summary\n",
    "IMDB = df[\"imdb_score\"].describe().round(1).rename(\"IMDB\")\n",
    "TMDB = df[\"tmdb_score\"].describe().round(1).rename(\"TMDB\")\n",
    "scoreSummary = pd.concat([IMDB, TMDB], axis = 1)\n",
    "\n",
    "# Table\n",
    "table = scoreSummary.to_string(col_space = 10)\n",
    "plt.text(2.55, 6.5, table, ha = \"left\", va = \"center\", bbox = dict(boxstyle = \"square\", facecolor = \"white\"))\n",
    "\n",
    "# Boxplot\n",
    "df.boxplot(column = [\"imdb_score\", \"tmdb_score\"], showfliers = True)\n",
    "plt.ylabel(\"Score\")\n",
    "plt.title(\"Score Summary\")\n",
    "plt.show()"
   ]
  },
  {
   "cell_type": "markdown",
   "metadata": {},
   "source": [
    "Key Insights\n",
    "- on average the scores vary 1.1 units from the mean\n",
    "- expect some negative skewness bc the mean < median\n",
    "- boxplots visualize the five number summary"
   ]
  },
  {
   "cell_type": "code",
   "execution_count": 9,
   "metadata": {},
   "outputs": [
    {
     "name": "stdout",
     "output_type": "stream",
     "text": [
      "imdb variance = 1.24\n",
      "tmdb variance = 1.3\n"
     ]
    }
   ],
   "source": [
    "# Variance\n",
    "imdbVar = df[\"imdb_score\"].var()\n",
    "tmdbVar = df[\"tmdb_score\"].var()\n",
    "print(f\"imdb variance = {round(imdbVar, 2)}\")\n",
    "print(f\"tmdb variance = {round(tmdbVar, 2)}\")"
   ]
  },
  {
   "cell_type": "markdown",
   "metadata": {},
   "source": [
    "Key Insights\n",
    "- low variability of scores imply clusters about the mean"
   ]
  },
  {
   "cell_type": "code",
   "execution_count": 10,
   "metadata": {},
   "outputs": [
    {
     "name": "stdout",
     "output_type": "stream",
     "text": [
      "imdb skew = -0.68\n",
      "tmdb skew = -0.52\n"
     ]
    }
   ],
   "source": [
    "# Skewness\n",
    "imdbSkew = df[\"imdb_score\"].skew()\n",
    "tmdbSkew = df[\"tmdb_score\"].skew()\n",
    "print(f\"imdb skew = {round(imdbSkew, 2)}\")\n",
    "print(f\"tmdb skew = {round(tmdbSkew, 2)}\")"
   ]
  },
  {
   "cell_type": "markdown",
   "metadata": {},
   "source": [
    "Key Insights\n",
    "- the tail of the distribution extends to the left"
   ]
  },
  {
   "cell_type": "code",
   "execution_count": 11,
   "metadata": {},
   "outputs": [
    {
     "name": "stdout",
     "output_type": "stream",
     "text": [
      "imdb kurtosis = 1.0\n",
      "tmdb kurtosis = 2.43\n"
     ]
    }
   ],
   "source": [
    "# Kurtosis\n",
    "imdbKurt = df[\"imdb_score\"].kurt()\n",
    "tmdbKurt = df[\"tmdb_score\"].kurt()\n",
    "print(f\"imdb kurtosis = {round(imdbKurt, 2)}\")\n",
    "print(f\"tmdb kurtosis = {round(tmdbKurt, 2)}\")"
   ]
  },
  {
   "cell_type": "markdown",
   "metadata": {},
   "source": [
    "Key Insights\n",
    "- positive kurtosis imply high peakedness"
   ]
  },
  {
   "cell_type": "code",
   "execution_count": 12,
   "metadata": {},
   "outputs": [
    {
     "ename": "NameError",
     "evalue": "name 'ax1' is not defined",
     "output_type": "error",
     "traceback": [
      "\u001b[0;31m---------------------------------------------------------------------------\u001b[0m",
      "\u001b[0;31mNameError\u001b[0m                                 Traceback (most recent call last)",
      "Cell \u001b[0;32mIn[12], line 7\u001b[0m\n\u001b[1;32m      5\u001b[0m df[\u001b[38;5;124m\"\u001b[39m\u001b[38;5;124mimdb_score\u001b[39m\u001b[38;5;124m\"\u001b[39m]\u001b[38;5;241m.\u001b[39mhist(alpha \u001b[38;5;241m=\u001b[39m \u001b[38;5;241m0.5\u001b[39m, bins \u001b[38;5;241m=\u001b[39m \u001b[38;5;241m10\u001b[39m, label \u001b[38;5;241m=\u001b[39m \u001b[38;5;124m\"\u001b[39m\u001b[38;5;124mIMDB\u001b[39m\u001b[38;5;124m\"\u001b[39m, ax \u001b[38;5;241m=\u001b[39m ax[\u001b[38;5;241m0\u001b[39m])\n\u001b[1;32m      6\u001b[0m df[\u001b[38;5;124m\"\u001b[39m\u001b[38;5;124mtmdb_score\u001b[39m\u001b[38;5;124m\"\u001b[39m]\u001b[38;5;241m.\u001b[39mhist(alpha \u001b[38;5;241m=\u001b[39m \u001b[38;5;241m0.5\u001b[39m, bins \u001b[38;5;241m=\u001b[39m \u001b[38;5;241m10\u001b[39m, label \u001b[38;5;241m=\u001b[39m \u001b[38;5;124m\"\u001b[39m\u001b[38;5;124mTMDB\u001b[39m\u001b[38;5;124m\"\u001b[39m, ax \u001b[38;5;241m=\u001b[39m ax[\u001b[38;5;241m0\u001b[39m])\n\u001b[0;32m----> 7\u001b[0m \u001b[43max1\u001b[49m\u001b[38;5;241m.\u001b[39mset_xlabel(\u001b[38;5;124m\"\u001b[39m\u001b[38;5;124mScore\u001b[39m\u001b[38;5;124m\"\u001b[39m)\n\u001b[1;32m      8\u001b[0m ax1\u001b[38;5;241m.\u001b[39mset_ylabel(\u001b[38;5;124m\"\u001b[39m\u001b[38;5;124mFrequency\u001b[39m\u001b[38;5;124m\"\u001b[39m)\n\u001b[1;32m      9\u001b[0m ax1\u001b[38;5;241m.\u001b[39mlegend()\n",
      "\u001b[0;31mNameError\u001b[0m: name 'ax1' is not defined"
     ]
    },
    {
     "data": {
      "image/png": "[encoded data removed]",
      "text/plain": [
       "<Figure size 1200x500 with 2 Axes>"
      ]
     },
     "metadata": {},
     "output_type": "display_data"
    }
   ],
   "source": [
    "# 1 Figure 2 Subplots\n",
    "fig, ax = plt.subplots(1, 2, figsize = (12, 5))\n",
    "\n",
    "# Histogram\n",
    "df[\"imdb_score\"].hist(alpha = 0.5, bins = 10, label = \"IMDB\", ax = ax[0])\n",
    "df[\"tmdb_score\"].hist(alpha = 0.5, bins = 10, label = \"TMDB\", ax = ax[0])\n",
    "ax1.set_xlabel(\"Score\")\n",
    "ax1.set_ylabel(\"Frequency\")\n",
    "ax1.legend()\n",
    "\n",
    "# Kernel Density Estimate\n",
    "df[\"imdb_score\"].plot.kde(label = \"IMDB\", ax = ax[1])\n",
    "df[\"tmdb_score\"].plot.kde(label = \"TMDB\", ax = ax[1])\n",
    "ax2.set_xlabel(\"Score\")\n",
    "ax2.set_ylabel(\"Density\")\n",
    "ax2.legend()\n",
    "\n",
    "plt.subplots_adjust(wspace = 0.5)\n",
    "fig.suptitle(\"Score Distribution\")\n",
    "plt.show()"
   ]
  },
  {
   "cell_type": "markdown",
   "metadata": {},
   "source": [
    "Key Insights\n",
    "- histograms visualize the distribution of frequency\n",
    "- kernel density estimates visualize the distribution of probability density"
   ]
  },
  {
   "cell_type": "code",
   "execution_count": null,
   "metadata": {},
   "outputs": [],
   "source": [
    "# Scatterplot\n",
    "df.plot.scatter(x = \"imdb_score\", y = \"tmdb_score\")\n",
    "\n",
    "# Calculate Regression\n",
    "coefficient = np.polyfit(df[\"imdb_score\"], df[\"tmdb_score\"], 1).round(2)\n",
    "m = coefficient[0] # Slope\n",
    "b = coefficient[1] # Intercept\n",
    "linRegEq = (f\"y = {m}x + {b}\")\n",
    "\n",
    "# Plot Regression\n",
    "plt.plot(df[\"imdb_score\"], m * df[\"imdb_score\"] + b, color = \"orange\", label = linRegEq)\n",
    "plt.title(\"Score Relationship\")\n",
    "\n",
    "plt.xlabel(\"IMDB\")\n",
    "plt.ylabel(\"TMDB\")\n",
    "plt.legend()\n",
    "plt.show()"
   ]
  },
  {
   "cell_type": "markdown",
   "metadata": {},
   "source": [
    "Key Insights\n",
    "- scatterplots visualize the relationship between 2 variables\n",
    "- linear regression lines best fit the relationship between 2 variables"
   ]
  },
  {
   "cell_type": "code",
   "execution_count": null,
   "metadata": {},
   "outputs": [],
   "source": [
    "# Covariance\n",
    "cov = df[\"imdb_score\"].cov(df[\"tmdb_score\"])\n",
    "print(f\"covariance = {round(cov, 2)}\")"
   ]
  },
  {
   "cell_type": "markdown",
   "metadata": {},
   "source": [
    "Key Insights\n",
    "- scores tend to change together toward similar direction"
   ]
  },
  {
   "cell_type": "code",
   "execution_count": null,
   "metadata": {},
   "outputs": [],
   "source": [
    "# Correlation\n",
    "corr = df[\"imdb_score\"].corr(df[\"tmdb_score\"])\n",
    "print(f\"correlation = {round(corr, 2)}\")"
   ]
  },
  {
   "cell_type": "markdown",
   "metadata": {},
   "source": [
    "Key Insights\n",
    "- scores tend to change together toward similar direction"
   ]
  },
  {
   "cell_type": "markdown",
   "metadata": {
    "jp-MarkdownHeadingCollapsed": true,
    "tags": []
   },
   "source": [
    "# Conclusion\n",
    "The correlation coefficient measures the strength and direction of the relationship between 2 variables. The relationship between IMDB scores and TMDB scores can provide value to netflix enthusiasts who seek reliable ratings or present a business opportunity to merge the 2 associated platforms into 1 integrated user experience.\n",
    "\n",
    "Reminder - correlation does not imply causation. The next step for this analysis would be to implement additional variables to identify causal factors. "
   ]
  }
 ],
 "metadata": {
  "kernelspec": {
   "display_name": "Python 3 (ipykernel)",
   "language": "python",
   "name": "python3"
  },
  "language_info": {
   "codemirror_mode": {
    "name": "ipython",
    "version": 3
   },
   "file_extension": ".py",
   "mimetype": "text/x-python",
   "name": "python",
   "nbconvert_exporter": "python",
   "pygments_lexer": "ipython3",
   "version": "3.10.11"
  }
 },
 "nbformat": 4,
 "nbformat_minor": 4
}
