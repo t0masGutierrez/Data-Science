{
 "cells": [
  {
   "cell_type": "markdown",
   "id": "45073706-49f0-48cd-bdc6-f3d1c446b26a",
   "metadata": {
    "jp-MarkdownHeadingCollapsed": true,
    "tags": []
   },
   "source": [
    "# Intro\n",
    "My data analysis will predict whether the S&P 500 Index will go up or down"
   ]
  },
  {
   "cell_type": "markdown",
   "id": "27b5663a-f347-471b-ac42-1e9f00f40898",
   "metadata": {
    "jp-MarkdownHeadingCollapsed": true,
    "tags": []
   },
   "source": [
    "# Import"
   ]
  },
  {
   "cell_type": "code",
   "execution_count": 171,
   "id": "122f92b7-06e1-48e3-8960-a4da588a5c30",
   "metadata": {},
   "outputs": [],
   "source": [
    "import os\n",
    "import datetime\n",
    "import pandas as pd\n",
    "from matplotlib import pyplot as plt\n",
    "import yfinance as yf"
   ]
  },
  {
   "cell_type": "code",
   "execution_count": 172,
   "id": "64b5bf5c-fcb6-4703-8625-b2c8cffc439e",
   "metadata": {},
   "outputs": [],
   "source": [
    "sp500 = yf.Ticker(\"^GSPC\")\n",
    "sp500 = sp500.history(period = \"max\")\n",
    "sp500.to_csv(\"/Users/tgut03/Jupyter/Data/sp500 Index.csv\")"
   ]
  },
  {
   "cell_type": "markdown",
   "id": "400e2b78-924e-42d6-ba2a-838b2e51ba09",
   "metadata": {
    "jp-MarkdownHeadingCollapsed": true,
    "tags": []
   },
   "source": [
    "# Process"
   ]
  },
  {
   "cell_type": "code",
   "execution_count": 173,
   "id": "c8cdfe4f-6f6b-48ee-bf27-231c34c948c2",
   "metadata": {},
   "outputs": [],
   "source": [
    "# Convert Data Types\n",
    "sp500.index = pd.to_datetime(sp500.index, utc = True)\n",
    "sp500.index = sp500.index.date"
   ]
  },
  {
   "cell_type": "code",
   "execution_count": 174,
   "id": "0a716f3d-6cdb-4542-b373-fdfa5eeba6e4",
   "metadata": {},
   "outputs": [
    {
     "data": {
      "image/png": "[encoded data removed]",
      "text/plain": [
       "<Figure size 640x480 with 1 Axes>"
      ]
     },
     "metadata": {},
     "output_type": "display_data"
    }
   ],
   "source": [
    "# Line Chart\n",
    "sp500.plot(kind = \"line\", y = \"Close\", use_index = True)\n",
    "plt.xlabel(\"Date\")\n",
    "plt.show()"
   ]
  },
  {
   "cell_type": "code",
   "execution_count": 175,
   "id": "ee67f317-0449-4db2-a139-53132271a4e0",
   "metadata": {},
   "outputs": [
    {
     "data": {
      "text/html": [
       "<div>\n",
       "<style scoped>\n",
       "    .dataframe tbody tr th:only-of-type {\n",
       "        vertical-align: middle;\n",
       "    }\n",
       "\n",
       "    .dataframe tbody tr th {\n",
       "        vertical-align: top;\n",
       "    }\n",
       "\n",
       "    .dataframe thead th {\n",
       "        text-align: right;\n",
       "    }\n",
       "</style>\n",
       "<table border=\"1\" class=\"dataframe\">\n",
       "  <thead>\n",
       "    <tr style=\"text-align: right;\">\n",
       "      <th></th>\n",
       "      <th>Open</th>\n",
       "      <th>High</th>\n",
       "      <th>Low</th>\n",
       "      <th>Close</th>\n",
       "      <th>Volume</th>\n",
       "    </tr>\n",
       "  </thead>\n",
       "  <tbody>\n",
       "    <tr>\n",
       "      <th>1927-12-30</th>\n",
       "      <td>17.660000</td>\n",
       "      <td>17.660000</td>\n",
       "      <td>17.660000</td>\n",
       "      <td>17.660000</td>\n",
       "      <td>0</td>\n",
       "    </tr>\n",
       "    <tr>\n",
       "      <th>1928-01-03</th>\n",
       "      <td>17.760000</td>\n",
       "      <td>17.760000</td>\n",
       "      <td>17.760000</td>\n",
       "      <td>17.760000</td>\n",
       "      <td>0</td>\n",
       "    </tr>\n",
       "    <tr>\n",
       "      <th>1928-01-04</th>\n",
       "      <td>17.719999</td>\n",
       "      <td>17.719999</td>\n",
       "      <td>17.719999</td>\n",
       "      <td>17.719999</td>\n",
       "      <td>0</td>\n",
       "    </tr>\n",
       "    <tr>\n",
       "      <th>1928-01-05</th>\n",
       "      <td>17.549999</td>\n",
       "      <td>17.549999</td>\n",
       "      <td>17.549999</td>\n",
       "      <td>17.549999</td>\n",
       "      <td>0</td>\n",
       "    </tr>\n",
       "    <tr>\n",
       "      <th>1928-01-06</th>\n",
       "      <td>17.660000</td>\n",
       "      <td>17.660000</td>\n",
       "      <td>17.660000</td>\n",
       "      <td>17.660000</td>\n",
       "      <td>0</td>\n",
       "    </tr>\n",
       "    <tr>\n",
       "      <th>...</th>\n",
       "      <td>...</td>\n",
       "      <td>...</td>\n",
       "      <td>...</td>\n",
       "      <td>...</td>\n",
       "      <td>...</td>\n",
       "    </tr>\n",
       "    <tr>\n",
       "      <th>2023-06-16</th>\n",
       "      <td>4440.950195</td>\n",
       "      <td>4448.470215</td>\n",
       "      <td>4407.439941</td>\n",
       "      <td>4409.589844</td>\n",
       "      <td>6848600000</td>\n",
       "    </tr>\n",
       "    <tr>\n",
       "      <th>2023-06-20</th>\n",
       "      <td>4396.109863</td>\n",
       "      <td>4400.149902</td>\n",
       "      <td>4367.189941</td>\n",
       "      <td>4388.709961</td>\n",
       "      <td>4055790000</td>\n",
       "    </tr>\n",
       "    <tr>\n",
       "      <th>2023-06-21</th>\n",
       "      <td>4380.009766</td>\n",
       "      <td>4386.220215</td>\n",
       "      <td>4360.140137</td>\n",
       "      <td>4365.689941</td>\n",
       "      <td>3709330000</td>\n",
       "    </tr>\n",
       "    <tr>\n",
       "      <th>2023-06-22</th>\n",
       "      <td>4355.399902</td>\n",
       "      <td>4382.250000</td>\n",
       "      <td>4351.819824</td>\n",
       "      <td>4381.890137</td>\n",
       "      <td>3511000000</td>\n",
       "    </tr>\n",
       "    <tr>\n",
       "      <th>2023-06-23</th>\n",
       "      <td>4354.169922</td>\n",
       "      <td>4366.549805</td>\n",
       "      <td>4341.339844</td>\n",
       "      <td>4348.330078</td>\n",
       "      <td>6053620000</td>\n",
       "    </tr>\n",
       "  </tbody>\n",
       "</table>\n",
       "<p>23984 rows × 5 columns</p>\n",
       "</div>"
      ],
      "text/plain": [
       "                   Open         High          Low        Close      Volume\n",
       "1927-12-30    17.660000    17.660000    17.660000    17.660000           0\n",
       "1928-01-03    17.760000    17.760000    17.760000    17.760000           0\n",
       "1928-01-04    17.719999    17.719999    17.719999    17.719999           0\n",
       "1928-01-05    17.549999    17.549999    17.549999    17.549999           0\n",
       "1928-01-06    17.660000    17.660000    17.660000    17.660000           0\n",
       "...                 ...          ...          ...          ...         ...\n",
       "2023-06-16  4440.950195  4448.470215  4407.439941  4409.589844  6848600000\n",
       "2023-06-20  4396.109863  4400.149902  4367.189941  4388.709961  4055790000\n",
       "2023-06-21  4380.009766  4386.220215  4360.140137  4365.689941  3709330000\n",
       "2023-06-22  4355.399902  4382.250000  4351.819824  4381.890137  3511000000\n",
       "2023-06-23  4354.169922  4366.549805  4341.339844  4348.330078  6053620000\n",
       "\n",
       "[23984 rows x 5 columns]"
      ]
     },
     "execution_count": 175,
     "metadata": {},
     "output_type": "execute_result"
    }
   ],
   "source": [
    "# Remove Variables\n",
    "del sp500[\"Dividends\"]\n",
    "del sp500[\"Stock Splits\"]\n",
    "sp500"
   ]
  },
  {
   "cell_type": "code",
   "execution_count": 176,
   "id": "685d397a-39cf-4a05-81bf-7052940baacf",
   "metadata": {},
   "outputs": [],
   "source": [
    "# Tomorrow = Close - 1\n",
    "sp500[\"Tomorrow\"] = sp500[\"Close\"].shift(-1)"
   ]
  },
  {
   "cell_type": "code",
   "execution_count": 177,
   "id": "a74b980e-624f-4430-828a-daa4454e81f5",
   "metadata": {},
   "outputs": [],
   "source": [
    "# If Up Then 1 Else 0\n",
    "sp500[\"Target\"] = (sp500[\"Tomorrow\"] > sp500[\"Close\"]).astype(int)"
   ]
  },
  {
   "cell_type": "code",
   "execution_count": 178,
   "id": "b4b17b5c-02ce-4f99-bf83-686fa7d181ac",
   "metadata": {},
   "outputs": [
    {
     "data": {
      "text/html": [
       "<div>\n",
       "<style scoped>\n",
       "    .dataframe tbody tr th:only-of-type {\n",
       "        vertical-align: middle;\n",
       "    }\n",
       "\n",
       "    .dataframe tbody tr th {\n",
       "        vertical-align: top;\n",
       "    }\n",
       "\n",
       "    .dataframe thead th {\n",
       "        text-align: right;\n",
       "    }\n",
       "</style>\n",
       "<table border=\"1\" class=\"dataframe\">\n",
       "  <thead>\n",
       "    <tr style=\"text-align: right;\">\n",
       "      <th></th>\n",
       "      <th>Open</th>\n",
       "      <th>High</th>\n",
       "      <th>Low</th>\n",
       "      <th>Close</th>\n",
       "      <th>Volume</th>\n",
       "      <th>Tomorrow</th>\n",
       "      <th>Target</th>\n",
       "    </tr>\n",
       "  </thead>\n",
       "  <tbody>\n",
       "    <tr>\n",
       "      <th>1990-01-02</th>\n",
       "      <td>353.399994</td>\n",
       "      <td>359.690002</td>\n",
       "      <td>351.980011</td>\n",
       "      <td>359.690002</td>\n",
       "      <td>162070000</td>\n",
       "      <td>358.760010</td>\n",
       "      <td>0</td>\n",
       "    </tr>\n",
       "    <tr>\n",
       "      <th>1990-01-03</th>\n",
       "      <td>359.690002</td>\n",
       "      <td>360.589996</td>\n",
       "      <td>357.890015</td>\n",
       "      <td>358.760010</td>\n",
       "      <td>192330000</td>\n",
       "      <td>355.670013</td>\n",
       "      <td>0</td>\n",
       "    </tr>\n",
       "    <tr>\n",
       "      <th>1990-01-04</th>\n",
       "      <td>358.760010</td>\n",
       "      <td>358.760010</td>\n",
       "      <td>352.890015</td>\n",
       "      <td>355.670013</td>\n",
       "      <td>177000000</td>\n",
       "      <td>352.200012</td>\n",
       "      <td>0</td>\n",
       "    </tr>\n",
       "    <tr>\n",
       "      <th>1990-01-05</th>\n",
       "      <td>355.670013</td>\n",
       "      <td>355.670013</td>\n",
       "      <td>351.350006</td>\n",
       "      <td>352.200012</td>\n",
       "      <td>158530000</td>\n",
       "      <td>353.790009</td>\n",
       "      <td>1</td>\n",
       "    </tr>\n",
       "    <tr>\n",
       "      <th>1990-01-08</th>\n",
       "      <td>352.200012</td>\n",
       "      <td>354.239990</td>\n",
       "      <td>350.540009</td>\n",
       "      <td>353.790009</td>\n",
       "      <td>140110000</td>\n",
       "      <td>349.619995</td>\n",
       "      <td>0</td>\n",
       "    </tr>\n",
       "    <tr>\n",
       "      <th>...</th>\n",
       "      <td>...</td>\n",
       "      <td>...</td>\n",
       "      <td>...</td>\n",
       "      <td>...</td>\n",
       "      <td>...</td>\n",
       "      <td>...</td>\n",
       "      <td>...</td>\n",
       "    </tr>\n",
       "    <tr>\n",
       "      <th>2023-06-16</th>\n",
       "      <td>4440.950195</td>\n",
       "      <td>4448.470215</td>\n",
       "      <td>4407.439941</td>\n",
       "      <td>4409.589844</td>\n",
       "      <td>6848600000</td>\n",
       "      <td>4388.709961</td>\n",
       "      <td>0</td>\n",
       "    </tr>\n",
       "    <tr>\n",
       "      <th>2023-06-20</th>\n",
       "      <td>4396.109863</td>\n",
       "      <td>4400.149902</td>\n",
       "      <td>4367.189941</td>\n",
       "      <td>4388.709961</td>\n",
       "      <td>4055790000</td>\n",
       "      <td>4365.689941</td>\n",
       "      <td>0</td>\n",
       "    </tr>\n",
       "    <tr>\n",
       "      <th>2023-06-21</th>\n",
       "      <td>4380.009766</td>\n",
       "      <td>4386.220215</td>\n",
       "      <td>4360.140137</td>\n",
       "      <td>4365.689941</td>\n",
       "      <td>3709330000</td>\n",
       "      <td>4381.890137</td>\n",
       "      <td>1</td>\n",
       "    </tr>\n",
       "    <tr>\n",
       "      <th>2023-06-22</th>\n",
       "      <td>4355.399902</td>\n",
       "      <td>4382.250000</td>\n",
       "      <td>4351.819824</td>\n",
       "      <td>4381.890137</td>\n",
       "      <td>3511000000</td>\n",
       "      <td>4348.330078</td>\n",
       "      <td>0</td>\n",
       "    </tr>\n",
       "    <tr>\n",
       "      <th>2023-06-23</th>\n",
       "      <td>4354.169922</td>\n",
       "      <td>4366.549805</td>\n",
       "      <td>4341.339844</td>\n",
       "      <td>4348.330078</td>\n",
       "      <td>6053620000</td>\n",
       "      <td>NaN</td>\n",
       "      <td>0</td>\n",
       "    </tr>\n",
       "  </tbody>\n",
       "</table>\n",
       "<p>8434 rows × 7 columns</p>\n",
       "</div>"
      ],
      "text/plain": [
       "                   Open         High          Low        Close      Volume  \\\n",
       "1990-01-02   353.399994   359.690002   351.980011   359.690002   162070000   \n",
       "1990-01-03   359.690002   360.589996   357.890015   358.760010   192330000   \n",
       "1990-01-04   358.760010   358.760010   352.890015   355.670013   177000000   \n",
       "1990-01-05   355.670013   355.670013   351.350006   352.200012   158530000   \n",
       "1990-01-08   352.200012   354.239990   350.540009   353.790009   140110000   \n",
       "...                 ...          ...          ...          ...         ...   \n",
       "2023-06-16  4440.950195  4448.470215  4407.439941  4409.589844  6848600000   \n",
       "2023-06-20  4396.109863  4400.149902  4367.189941  4388.709961  4055790000   \n",
       "2023-06-21  4380.009766  4386.220215  4360.140137  4365.689941  3709330000   \n",
       "2023-06-22  4355.399902  4382.250000  4351.819824  4381.890137  3511000000   \n",
       "2023-06-23  4354.169922  4366.549805  4341.339844  4348.330078  6053620000   \n",
       "\n",
       "               Tomorrow  Target  \n",
       "1990-01-02   358.760010       0  \n",
       "1990-01-03   355.670013       0  \n",
       "1990-01-04   352.200012       0  \n",
       "1990-01-05   353.790009       1  \n",
       "1990-01-08   349.619995       0  \n",
       "...                 ...     ...  \n",
       "2023-06-16  4388.709961       0  \n",
       "2023-06-20  4365.689941       0  \n",
       "2023-06-21  4381.890137       1  \n",
       "2023-06-22  4348.330078       0  \n",
       "2023-06-23          NaN       0  \n",
       "\n",
       "[8434 rows x 7 columns]"
      ]
     },
     "execution_count": 178,
     "metadata": {},
     "output_type": "execute_result"
    }
   ],
   "source": [
    "# Get Date After Jan 1990\n",
    "date = datetime.date(1990, 1, 1)\n",
    "sp500 = sp500[sp500.index >= date].copy()\n",
    "sp500"
   ]
  },
  {
   "cell_type": "code",
   "execution_count": 179,
   "id": "53f19aa4-e453-443c-b170-d15a3a5baa11",
   "metadata": {},
   "outputs": [],
   "source": [
    "# Split Dataset\n",
    "train = sp500.iloc[:-100]\n",
    "test = sp500[-100:]"
   ]
  },
  {
   "cell_type": "code",
   "execution_count": 180,
   "id": "235060d6-08e1-4d88-b45e-e18bcfd93cc1",
   "metadata": {},
   "outputs": [],
   "source": [
    "# Select Features\n",
    "predictors = [\"Open\", \"Close\", \"High\", \"Low\", \"Volume\"]"
   ]
  },
  {
   "cell_type": "markdown",
   "id": "824ce701-7029-4d48-aed6-a6e79c99861b",
   "metadata": {
    "jp-MarkdownHeadingCollapsed": true,
    "tags": []
   },
   "source": [
    "# Model"
   ]
  },
  {
   "cell_type": "code",
   "execution_count": 181,
   "id": "2ec80f78-7c85-4e87-af4b-db214c5d9ebf",
   "metadata": {},
   "outputs": [],
   "source": [
    "from sklearn.ensemble import RandomForestClassifier \n",
    "from sklearn.metrics import precision_score"
   ]
  },
  {
   "cell_type": "code",
   "execution_count": 182,
   "id": "943d0844-728c-4b2d-9fc0-6bb7706de932",
   "metadata": {},
   "outputs": [],
   "source": [
    "# Model\n",
    "model = RandomForestClassifier(n_estimators = 100, min_samples_split = 100, random_state = 1)"
   ]
  },
  {
   "cell_type": "code",
   "execution_count": 183,
   "id": "a28a8910-2b71-4422-87e1-3b81f43aa587",
   "metadata": {},
   "outputs": [
    {
     "name": "stdout",
     "output_type": "stream",
     "text": [
      "Success\n"
     ]
    }
   ],
   "source": [
    "# Train Model\n",
    "model.fit(train[predictors], train[\"Target\"])\n",
    "print(\"Success\")"
   ]
  },
  {
   "cell_type": "code",
   "execution_count": 184,
   "id": "df818338-a47c-4d02-a8e8-25f5e5f0ab2d",
   "metadata": {},
   "outputs": [],
   "source": [
    "# Predictions\n",
    "preds = model.predict(test[predictors])\n",
    "preds = pd.Series(preds, index = test.index)"
   ]
  },
  {
   "cell_type": "code",
   "execution_count": 185,
   "id": "c15dcd11-66ea-4ece-a242-07d6e14b0efe",
   "metadata": {},
   "outputs": [
    {
     "name": "stdout",
     "output_type": "stream",
     "text": [
      "1 = 0.61\n"
     ]
    }
   ],
   "source": [
    "# Model Accuracy\n",
    "score = precision_score(test[\"Target\"], preds)\n",
    "print(f\"1 = {score.round(2)}\")"
   ]
  },
  {
   "cell_type": "code",
   "execution_count": 186,
   "id": "383a5500-99ad-4fd5-8a46-0ab674f6d470",
   "metadata": {},
   "outputs": [
    {
     "data": {
      "image/png": "[encoded data removed]",
      "text/plain": [
       "<Figure size 640x480 with 1 Axes>"
      ]
     },
     "metadata": {},
     "output_type": "display_data"
    }
   ],
   "source": [
    "# Predictions Target Concatenation\n",
    "preds = pd.Series(preds, index = test.index)\n",
    "predsTarget = pd.concat([test[\"Target\"], preds], axis = 1)\n",
    "\n",
    "# Plot Accuracy\n",
    "predsTarget.plot(kind = \"line\")\n",
    "plt.title(\"Target vs Predictions\")\n",
    "plt.legend([\"Target\", \"Predictions\"])\n",
    "plt.show()"
   ]
  },
  {
   "cell_type": "code",
   "execution_count": 187,
   "id": "be53d4f5-cca9-4421-8c0c-228125ef7bbf",
   "metadata": {},
   "outputs": [],
   "source": [
    "# Predict Function\n",
    "def predict(train, test, predictors, model) :\n",
    "    model.fit(train[predictors], train[\"Target\"]) # Model\n",
    "    preds = model.predict(test[predictors]) # Predictions\n",
    "    preds = pd.Series(preds, index = test.index, name = \"Predictions\") # Predictions\n",
    "    predsTarget = pd.concat([test[\"Target\"], preds], axis = 1) # Predictions Target Concatenation\n",
    "    return predsTarget"
   ]
  },
  {
   "cell_type": "code",
   "execution_count": 188,
   "id": "8679c1bb-f141-4cba-bd86-03004b774403",
   "metadata": {},
   "outputs": [],
   "source": [
    "# Backtest Function\n",
    "def backtest(data, predictors, model, start = 2500, step = 250) : # 1yr = 250\n",
    "    allPredictions = []\n",
    "    \n",
    "    for i in range(start, data.shape[0], step) :\n",
    "        train = data.iloc[0:i].copy() # Train\n",
    "        test = data.iloc[i:(i+step)].copy() # Test\n",
    "        predictions = predict(train, test, predictors, model) # Predict Function\n",
    "        allPredictions.append(predictions) # Append Predictions\n",
    "    return pd.concat(allPredictions)"
   ]
  },
  {
   "cell_type": "code",
   "execution_count": 189,
   "id": "1d8698bc-90d2-460c-b786-9f9eba72fc2a",
   "metadata": {},
   "outputs": [
    {
     "data": {
      "text/plain": [
       "0    3389\n",
       "1    2545\n",
       "Name: Predictions, dtype: int64"
      ]
     },
     "execution_count": 189,
     "metadata": {},
     "output_type": "execute_result"
    }
   ],
   "source": [
    "# Predictions Frequency\n",
    "predictions = backtest(sp500, predictors, model)\n",
    "predictions[\"Predictions\"].value_counts()"
   ]
  },
  {
   "cell_type": "code",
   "execution_count": 190,
   "id": "ed2d2fd9-ec14-4c6c-997e-0a9fdf948a62",
   "metadata": {},
   "outputs": [
    {
     "name": "stdout",
     "output_type": "stream",
     "text": [
      "1 = 0.53\n"
     ]
    }
   ],
   "source": [
    "# Model Accuracy\n",
    "score = precision_score(predictions[\"Target\"], predictions[\"Predictions\"])\n",
    "print(f\"1 = {score.round(2)}\")"
   ]
  },
  {
   "cell_type": "code",
   "execution_count": 191,
   "id": "01f4a311-d41a-48d8-b9d0-9901c4bfcb72",
   "metadata": {},
   "outputs": [
    {
     "data": {
      "text/plain": [
       "1    0.53\n",
       "0    0.47\n",
       "Name: Target, dtype: float64"
      ]
     },
     "execution_count": 191,
     "metadata": {},
     "output_type": "execute_result"
    }
   ],
   "source": [
    "# True Outcome\n",
    "(predictions[\"Target\"].value_counts() / predictions[\"Predictions\"].shape[0]).round(2)"
   ]
  },
  {
   "cell_type": "code",
   "execution_count": 192,
   "id": "faa45172-7a2c-4b05-90a0-81e1f059cd79",
   "metadata": {},
   "outputs": [],
   "source": [
    "# History Function\n",
    "horizons = [2, 5, 60, 250, 1000]\n",
    "newPredictors = []\n",
    "\n",
    "for horizon in horizons : \n",
    "    rollAvgs = sp500.rolling(horizon).mean()\n",
    "    \n",
    "    ratio = f\"{horizon} Day Close Ratio\"\n",
    "    sp500[ratio] = sp500[\"Close\"] / rollAvgs[\"Close\"]\n",
    "    \n",
    "    trend = f\"{horizon} Day Trend\"\n",
    "    sp500[trend] = sp500.shift(1).rolling(horizon).sum()[\"Target\"]\n",
    "    \n",
    "    newPredictors += [ratio, trend]"
   ]
  },
  {
   "cell_type": "code",
   "execution_count": 193,
   "id": "a2a35dd4-5632-4ab3-98b5-4af252f12047",
   "metadata": {},
   "outputs": [
    {
     "data": {
      "text/html": [
       "<div>\n",
       "<style scoped>\n",
       "    .dataframe tbody tr th:only-of-type {\n",
       "        vertical-align: middle;\n",
       "    }\n",
       "\n",
       "    .dataframe tbody tr th {\n",
       "        vertical-align: top;\n",
       "    }\n",
       "\n",
       "    .dataframe thead th {\n",
       "        text-align: right;\n",
       "    }\n",
       "</style>\n",
       "<table border=\"1\" class=\"dataframe\">\n",
       "  <thead>\n",
       "    <tr style=\"text-align: right;\">\n",
       "      <th></th>\n",
       "      <th>Open</th>\n",
       "      <th>High</th>\n",
       "      <th>Low</th>\n",
       "      <th>Close</th>\n",
       "      <th>Volume</th>\n",
       "      <th>Tomorrow</th>\n",
       "      <th>Target</th>\n",
       "      <th>2 Day Close Ratio</th>\n",
       "      <th>2 Day Trend</th>\n",
       "      <th>5 Day Close Ratio</th>\n",
       "      <th>5 Day Trend</th>\n",
       "      <th>60 Day Close Ratio</th>\n",
       "      <th>60 Day Trend</th>\n",
       "      <th>250 Day Close Ratio</th>\n",
       "      <th>250 Day Trend</th>\n",
       "      <th>1000 Day Close Ratio</th>\n",
       "      <th>1000 Day Trend</th>\n",
       "    </tr>\n",
       "  </thead>\n",
       "  <tbody>\n",
       "    <tr>\n",
       "      <th>1993-12-14</th>\n",
       "      <td>465.730011</td>\n",
       "      <td>466.119995</td>\n",
       "      <td>462.459991</td>\n",
       "      <td>463.059998</td>\n",
       "      <td>275050000</td>\n",
       "      <td>461.839996</td>\n",
       "      <td>0</td>\n",
       "      <td>0.997157</td>\n",
       "      <td>1.0</td>\n",
       "      <td>0.996617</td>\n",
       "      <td>1.0</td>\n",
       "      <td>1.000283</td>\n",
       "      <td>32.0</td>\n",
       "      <td>1.028047</td>\n",
       "      <td>127.0</td>\n",
       "      <td>1.176082</td>\n",
       "      <td>512.0</td>\n",
       "    </tr>\n",
       "    <tr>\n",
       "      <th>1993-12-15</th>\n",
       "      <td>463.059998</td>\n",
       "      <td>463.690002</td>\n",
       "      <td>461.839996</td>\n",
       "      <td>461.839996</td>\n",
       "      <td>331770000</td>\n",
       "      <td>463.339996</td>\n",
       "      <td>1</td>\n",
       "      <td>0.998681</td>\n",
       "      <td>0.0</td>\n",
       "      <td>0.995899</td>\n",
       "      <td>1.0</td>\n",
       "      <td>0.997329</td>\n",
       "      <td>32.0</td>\n",
       "      <td>1.025151</td>\n",
       "      <td>126.0</td>\n",
       "      <td>1.172676</td>\n",
       "      <td>512.0</td>\n",
       "    </tr>\n",
       "    <tr>\n",
       "      <th>1993-12-16</th>\n",
       "      <td>461.859985</td>\n",
       "      <td>463.980011</td>\n",
       "      <td>461.859985</td>\n",
       "      <td>463.339996</td>\n",
       "      <td>284620000</td>\n",
       "      <td>466.380005</td>\n",
       "      <td>1</td>\n",
       "      <td>1.001621</td>\n",
       "      <td>1.0</td>\n",
       "      <td>0.999495</td>\n",
       "      <td>2.0</td>\n",
       "      <td>1.000311</td>\n",
       "      <td>32.0</td>\n",
       "      <td>1.028274</td>\n",
       "      <td>127.0</td>\n",
       "      <td>1.176163</td>\n",
       "      <td>513.0</td>\n",
       "    </tr>\n",
       "    <tr>\n",
       "      <th>1993-12-17</th>\n",
       "      <td>463.339996</td>\n",
       "      <td>466.380005</td>\n",
       "      <td>463.339996</td>\n",
       "      <td>466.380005</td>\n",
       "      <td>363750000</td>\n",
       "      <td>465.850006</td>\n",
       "      <td>0</td>\n",
       "      <td>1.003270</td>\n",
       "      <td>2.0</td>\n",
       "      <td>1.004991</td>\n",
       "      <td>3.0</td>\n",
       "      <td>1.006561</td>\n",
       "      <td>32.0</td>\n",
       "      <td>1.034781</td>\n",
       "      <td>128.0</td>\n",
       "      <td>1.183537</td>\n",
       "      <td>514.0</td>\n",
       "    </tr>\n",
       "    <tr>\n",
       "      <th>1993-12-20</th>\n",
       "      <td>466.380005</td>\n",
       "      <td>466.899994</td>\n",
       "      <td>465.529999</td>\n",
       "      <td>465.850006</td>\n",
       "      <td>255900000</td>\n",
       "      <td>465.299988</td>\n",
       "      <td>0</td>\n",
       "      <td>0.999431</td>\n",
       "      <td>1.0</td>\n",
       "      <td>1.003784</td>\n",
       "      <td>2.0</td>\n",
       "      <td>1.005120</td>\n",
       "      <td>32.0</td>\n",
       "      <td>1.033359</td>\n",
       "      <td>128.0</td>\n",
       "      <td>1.181856</td>\n",
       "      <td>513.0</td>\n",
       "    </tr>\n",
       "    <tr>\n",
       "      <th>...</th>\n",
       "      <td>...</td>\n",
       "      <td>...</td>\n",
       "      <td>...</td>\n",
       "      <td>...</td>\n",
       "      <td>...</td>\n",
       "      <td>...</td>\n",
       "      <td>...</td>\n",
       "      <td>...</td>\n",
       "      <td>...</td>\n",
       "      <td>...</td>\n",
       "      <td>...</td>\n",
       "      <td>...</td>\n",
       "      <td>...</td>\n",
       "      <td>...</td>\n",
       "      <td>...</td>\n",
       "      <td>...</td>\n",
       "      <td>...</td>\n",
       "    </tr>\n",
       "    <tr>\n",
       "      <th>2023-06-15</th>\n",
       "      <td>4365.330078</td>\n",
       "      <td>4439.200195</td>\n",
       "      <td>4362.600098</td>\n",
       "      <td>4425.839844</td>\n",
       "      <td>4176690000</td>\n",
       "      <td>4409.589844</td>\n",
       "      <td>0</td>\n",
       "      <td>1.006052</td>\n",
       "      <td>2.0</td>\n",
       "      <td>1.014857</td>\n",
       "      <td>5.0</td>\n",
       "      <td>1.066704</td>\n",
       "      <td>35.0</td>\n",
       "      <td>1.110229</td>\n",
       "      <td>120.0</td>\n",
       "      <td>1.171738</td>\n",
       "      <td>537.0</td>\n",
       "    </tr>\n",
       "    <tr>\n",
       "      <th>2023-06-16</th>\n",
       "      <td>4440.950195</td>\n",
       "      <td>4448.470215</td>\n",
       "      <td>4407.439941</td>\n",
       "      <td>4409.589844</td>\n",
       "      <td>6848600000</td>\n",
       "      <td>4388.709961</td>\n",
       "      <td>0</td>\n",
       "      <td>0.998161</td>\n",
       "      <td>1.0</td>\n",
       "      <td>1.006023</td>\n",
       "      <td>4.0</td>\n",
       "      <td>1.060773</td>\n",
       "      <td>35.0</td>\n",
       "      <td>1.105338</td>\n",
       "      <td>119.0</td>\n",
       "      <td>1.166977</td>\n",
       "      <td>536.0</td>\n",
       "    </tr>\n",
       "    <tr>\n",
       "      <th>2023-06-20</th>\n",
       "      <td>4396.109863</td>\n",
       "      <td>4400.149902</td>\n",
       "      <td>4367.189941</td>\n",
       "      <td>4388.709961</td>\n",
       "      <td>4055790000</td>\n",
       "      <td>4365.689941</td>\n",
       "      <td>0</td>\n",
       "      <td>0.997627</td>\n",
       "      <td>0.0</td>\n",
       "      <td>0.998990</td>\n",
       "      <td>3.0</td>\n",
       "      <td>1.053891</td>\n",
       "      <td>34.0</td>\n",
       "      <td>1.099416</td>\n",
       "      <td>118.0</td>\n",
       "      <td>1.161007</td>\n",
       "      <td>535.0</td>\n",
       "    </tr>\n",
       "    <tr>\n",
       "      <th>2023-06-21</th>\n",
       "      <td>4380.009766</td>\n",
       "      <td>4386.220215</td>\n",
       "      <td>4360.140137</td>\n",
       "      <td>4365.689941</td>\n",
       "      <td>3709330000</td>\n",
       "      <td>4381.890137</td>\n",
       "      <td>1</td>\n",
       "      <td>0.997370</td>\n",
       "      <td>0.0</td>\n",
       "      <td>0.993900</td>\n",
       "      <td>2.0</td>\n",
       "      <td>1.046710</td>\n",
       "      <td>33.0</td>\n",
       "      <td>1.092986</td>\n",
       "      <td>118.0</td>\n",
       "      <td>1.154489</td>\n",
       "      <td>534.0</td>\n",
       "    </tr>\n",
       "    <tr>\n",
       "      <th>2023-06-22</th>\n",
       "      <td>4355.399902</td>\n",
       "      <td>4382.250000</td>\n",
       "      <td>4351.819824</td>\n",
       "      <td>4381.890137</td>\n",
       "      <td>3511000000</td>\n",
       "      <td>4348.330078</td>\n",
       "      <td>0</td>\n",
       "      <td>1.001852</td>\n",
       "      <td>1.0</td>\n",
       "      <td>0.997166</td>\n",
       "      <td>2.0</td>\n",
       "      <td>1.048899</td>\n",
       "      <td>33.0</td>\n",
       "      <td>1.096398</td>\n",
       "      <td>118.0</td>\n",
       "      <td>1.158342</td>\n",
       "      <td>534.0</td>\n",
       "    </tr>\n",
       "  </tbody>\n",
       "</table>\n",
       "<p>7433 rows × 17 columns</p>\n",
       "</div>"
      ],
      "text/plain": [
       "                   Open         High          Low        Close      Volume  \\\n",
       "1993-12-14   465.730011   466.119995   462.459991   463.059998   275050000   \n",
       "1993-12-15   463.059998   463.690002   461.839996   461.839996   331770000   \n",
       "1993-12-16   461.859985   463.980011   461.859985   463.339996   284620000   \n",
       "1993-12-17   463.339996   466.380005   463.339996   466.380005   363750000   \n",
       "1993-12-20   466.380005   466.899994   465.529999   465.850006   255900000   \n",
       "...                 ...          ...          ...          ...         ...   \n",
       "2023-06-15  4365.330078  4439.200195  4362.600098  4425.839844  4176690000   \n",
       "2023-06-16  4440.950195  4448.470215  4407.439941  4409.589844  6848600000   \n",
       "2023-06-20  4396.109863  4400.149902  4367.189941  4388.709961  4055790000   \n",
       "2023-06-21  4380.009766  4386.220215  4360.140137  4365.689941  3709330000   \n",
       "2023-06-22  4355.399902  4382.250000  4351.819824  4381.890137  3511000000   \n",
       "\n",
       "               Tomorrow  Target  2 Day Close Ratio  2 Day Trend  \\\n",
       "1993-12-14   461.839996       0           0.997157          1.0   \n",
       "1993-12-15   463.339996       1           0.998681          0.0   \n",
       "1993-12-16   466.380005       1           1.001621          1.0   \n",
       "1993-12-17   465.850006       0           1.003270          2.0   \n",
       "1993-12-20   465.299988       0           0.999431          1.0   \n",
       "...                 ...     ...                ...          ...   \n",
       "2023-06-15  4409.589844       0           1.006052          2.0   \n",
       "2023-06-16  4388.709961       0           0.998161          1.0   \n",
       "2023-06-20  4365.689941       0           0.997627          0.0   \n",
       "2023-06-21  4381.890137       1           0.997370          0.0   \n",
       "2023-06-22  4348.330078       0           1.001852          1.0   \n",
       "\n",
       "            5 Day Close Ratio  5 Day Trend  60 Day Close Ratio  60 Day Trend  \\\n",
       "1993-12-14           0.996617          1.0            1.000283          32.0   \n",
       "1993-12-15           0.995899          1.0            0.997329          32.0   \n",
       "1993-12-16           0.999495          2.0            1.000311          32.0   \n",
       "1993-12-17           1.004991          3.0            1.006561          32.0   \n",
       "1993-12-20           1.003784          2.0            1.005120          32.0   \n",
       "...                       ...          ...                 ...           ...   \n",
       "2023-06-15           1.014857          5.0            1.066704          35.0   \n",
       "2023-06-16           1.006023          4.0            1.060773          35.0   \n",
       "2023-06-20           0.998990          3.0            1.053891          34.0   \n",
       "2023-06-21           0.993900          2.0            1.046710          33.0   \n",
       "2023-06-22           0.997166          2.0            1.048899          33.0   \n",
       "\n",
       "            250 Day Close Ratio  250 Day Trend  1000 Day Close Ratio  \\\n",
       "1993-12-14             1.028047          127.0              1.176082   \n",
       "1993-12-15             1.025151          126.0              1.172676   \n",
       "1993-12-16             1.028274          127.0              1.176163   \n",
       "1993-12-17             1.034781          128.0              1.183537   \n",
       "1993-12-20             1.033359          128.0              1.181856   \n",
       "...                         ...            ...                   ...   \n",
       "2023-06-15             1.110229          120.0              1.171738   \n",
       "2023-06-16             1.105338          119.0              1.166977   \n",
       "2023-06-20             1.099416          118.0              1.161007   \n",
       "2023-06-21             1.092986          118.0              1.154489   \n",
       "2023-06-22             1.096398          118.0              1.158342   \n",
       "\n",
       "            1000 Day Trend  \n",
       "1993-12-14           512.0  \n",
       "1993-12-15           512.0  \n",
       "1993-12-16           513.0  \n",
       "1993-12-17           514.0  \n",
       "1993-12-20           513.0  \n",
       "...                    ...  \n",
       "2023-06-15           537.0  \n",
       "2023-06-16           536.0  \n",
       "2023-06-20           535.0  \n",
       "2023-06-21           534.0  \n",
       "2023-06-22           534.0  \n",
       "\n",
       "[7433 rows x 17 columns]"
      ]
     },
     "execution_count": 193,
     "metadata": {},
     "output_type": "execute_result"
    }
   ],
   "source": [
    "# Remove Nulls\n",
    "sp500 = sp500.dropna()\n",
    "sp500"
   ]
  },
  {
   "cell_type": "code",
   "execution_count": 194,
   "id": "d8a17bbb-88ad-4062-8301-226e9366b206",
   "metadata": {},
   "outputs": [],
   "source": [
    "# Model\n",
    "model = RandomForestClassifier(n_estimators = 200, min_samples_split = 50, random_state = 1)"
   ]
  },
  {
   "cell_type": "code",
   "execution_count": 195,
   "id": "1a5d9dd4-7f15-4326-a4f2-9b11ed9a9ed8",
   "metadata": {},
   "outputs": [],
   "source": [
    "# Predict Function\n",
    "def predict(train, test, predictors, model) :\n",
    "    model.fit(train[predictors], train[\"Target\"]) # Model\n",
    "    preds = model.predict_proba(test[predictors]) [:,1] # Predictions Probability\n",
    "    preds[preds >= 0.6] = 1 # Probability Level\n",
    "    preds[preds < 0.6] = 0 # Probability Level\n",
    "    preds = pd.Series(preds, index = test.index, name = \"Predictions\") # Predictions\n",
    "    predsTarget = pd.concat([test[\"Target\"], preds], axis = 1) # Predictions Target Concatenation\n",
    "    return predsTarget"
   ]
  },
  {
   "cell_type": "code",
   "execution_count": 196,
   "id": "e1f2913d-3ffd-4671-87c0-ebda85abd816",
   "metadata": {},
   "outputs": [
    {
     "data": {
      "text/plain": [
       "0.0    4119\n",
       "1.0     814\n",
       "Name: Predictions, dtype: int64"
      ]
     },
     "execution_count": 196,
     "metadata": {},
     "output_type": "execute_result"
    }
   ],
   "source": [
    "# Predictions Frequency\n",
    "predictions = backtest(sp500, newPredictors, model)\n",
    "predictions[\"Predictions\"].value_counts()"
   ]
  },
  {
   "cell_type": "code",
   "execution_count": 197,
   "id": "d528e8b0-b90d-43c5-81a4-70953cc969aa",
   "metadata": {},
   "outputs": [
    {
     "name": "stdout",
     "output_type": "stream",
     "text": [
      "1 = 0.57\n"
     ]
    }
   ],
   "source": [
    "# Model Accuracy\n",
    "score = precision_score(predictions[\"Target\"], predictions[\"Predictions\"])\n",
    "print(f\"1 = {score.round(2)}\")"
   ]
  },
  {
   "cell_type": "code",
   "execution_count": 198,
   "id": "7be12866-7999-4e92-9a90-8e22aa08f2ef",
   "metadata": {},
   "outputs": [
    {
     "data": {
      "text/plain": [
       "1    0.54\n",
       "0    0.46\n",
       "Name: Target, dtype: float64"
      ]
     },
     "execution_count": 198,
     "metadata": {},
     "output_type": "execute_result"
    }
   ],
   "source": [
    "# True Outcome\n",
    "(predictions[\"Target\"].value_counts() / predictions[\"Predictions\"].shape[0]).round(2)"
   ]
  },
  {
   "cell_type": "markdown",
   "id": "1b41e3e0-38f1-43c9-a2f2-660c74e06caf",
   "metadata": {
    "jp-MarkdownHeadingCollapsed": true,
    "tags": []
   },
   "source": [
    "# Conclusion\n",
    "My model correctly predicted the sp500 Index would go up 57% of the days, while the sp500 Index went up 54% of the days. Therefore, we can conlude the model has 3% predictive ability compared to the sp500 Index. The next steps for this model would be to implement additional features such as market sentiment, sector performance, or company fundamentals to improve model accuracy"
   ]
  }
 ],
 "metadata": {
  "kernelspec": {
   "display_name": "Python 3 (ipykernel)",
   "language": "python",
   "name": "python3"
  },
  "language_info": {
   "codemirror_mode": {
    "name": "ipython",
    "version": 3
   },
   "file_extension": ".py",
   "mimetype": "text/x-python",
   "name": "python",
   "nbconvert_exporter": "python",
   "pygments_lexer": "ipython3",
   "version": "3.10.11"
  }
 },
 "nbformat": 4,
 "nbformat_minor": 5
}
